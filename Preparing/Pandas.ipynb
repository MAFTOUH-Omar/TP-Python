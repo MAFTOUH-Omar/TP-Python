{
 "cells": [
  {
   "cell_type": "code",
   "execution_count": 4,
   "metadata": {},
   "outputs": [
    {
     "name": "stdout",
     "output_type": "stream",
     "text": [
      "1    a\n",
      "2    b\n",
      "3    c\n",
      "4    d\n",
      "dtype: object\n"
     ]
    }
   ],
   "source": [
    "import pandas as pd \n",
    "import numpy as np\n",
    "\n",
    "Index = np.array([1 , 2 , 3 , 4])\n",
    "Value = np.array(['a' , 'b' , 'c' , 'd'])\n",
    "print(pd.Series(Value , index=Index))"
   ]
  },
  {
   "cell_type": "code",
   "execution_count": 8,
   "metadata": {},
   "outputs": [
    {
     "name": "stdout",
     "output_type": "stream",
     "text": [
      "DataFrame : \n",
      "      Name   Age\n",
      "0  Youssef  22.0\n",
      "1      Ali  25.0\n",
      "2   Hanane  19.0\n"
     ]
    }
   ],
   "source": [
    "data = [['Youssef',22],['Ali',25],['Hanane',19]]\n",
    "df = pd.DataFrame(data , columns=['Name' , 'Age'])\n",
    "df['Age'] = df['Age'].astype(float)\n",
    "print(f\"DataFrame : \\n{df}\")"
   ]
  },
  {
   "cell_type": "code",
   "execution_count": 38,
   "metadata": {},
   "outputs": [
    {
     "name": "stdout",
     "output_type": "stream",
     "text": [
      "Data from DF Client : \n",
      "          nom    prenom  age  salaire date_naissance  Test01\n",
      "0     Mcguire  Jonathan   59   119138     1984-08-26     590\n",
      "1       Olsen  Jennifer   30   140589     1977-05-10     300\n",
      "2        Meza  Jennifer   56    57789     1965-07-09     560\n",
      "3       Smith   Stephen   58    74429     1964-03-14     580\n",
      "4      Cherry  Savannah   22   104091     1962-09-14     220\n",
      "..        ...       ...  ...      ...            ...     ...\n",
      "93      Short   Valerie   51   130703     1992-03-18     510\n",
      "94  Rodriguez    Amanda   47   104754     1984-09-05     470\n",
      "95    Collier    Mariah   53   139429     1978-08-21     530\n",
      "96      Hayes   Matthew   45   101476     1968-07-21     450\n",
      "97   Cantrell      John   38   112067     1976-05-29     380\n",
      "\n",
      "[98 rows x 6 columns]\n"
     ]
    }
   ],
   "source": [
    "pathDf = '../Data/clients.csv'\n",
    "dfClient = pd.read_csv(\n",
    "    pathDf ,\n",
    "    skiprows= [ 1 , 2] ,\n",
    "    usecols = ['nom' , 'prenom' , 'age' , 'date_naissance' , 'salaire']\n",
    ")\n",
    "dfClient['Test01'] = dfClient['age'] * 10\n",
    "print(f\"Data from DF Client : \\n{dfClient}\")\n",
    "# dfClient.drop([\"Test01\" , \"salaire\"] , axis=0 , inplace=True) Pour Supprimer des ligne ou des colones \n",
    "# del dfClient['Test01'] Pour supprimer un seule ligne ou bien colone\n",
    "# dfClient.rename(columns={'salaire' : 'Yearly_Salary'} , inplace=True)\n",
    "# Pour sauvgarder dans un csv\n",
    "# df.to_csv('Test.csv')"
   ]
  },
  {
   "cell_type": "code",
   "execution_count": 61,
   "metadata": {},
   "outputs": [
    {
     "name": "stdout",
     "output_type": "stream",
     "text": [
      "     fullName  age\n",
      "U01   MAFTOUH   20\n",
      "U02   SAROUTE   23\n",
      "2    EL MEZDI   21\n",
      "3        Test   24\n"
     ]
    }
   ],
   "source": [
    "# Slicing\n",
    "rowSelection01 = dfClient.loc[ : 4 , ['nom' , 'age']]\n",
    "\n",
    "# Concat\n",
    "data01 = {\n",
    "    \"fullName\" : ['MAFTOUH' , 'SAROUTE' , 'EL MEZDI'] ,\n",
    "    \"age\" : [20 , 23 , 21] ,\n",
    "}\n",
    "\n",
    "df01 = pd.DataFrame(data01)\n",
    "df02 = pd.DataFrame({\"fullName\" : \"Test\" , \"age\" : 24} , index = [0])\n",
    "df03 = pd.concat([df01 , df02]).reset_index(drop=True)\n",
    "df03.rename(index={0 : 'U01' , 1 : 'U02'} , inplace=True)\n",
    "print(df03)\n",
    "df03.loc[['U01' , 'U02']]\n",
    "########## Sort Rows\n",
    "df03.sort_index(inplace=True)\n",
    "df03.sort_index(ascending=True , inplace=True) # true dans le sans inversse\n",
    "########## Sort Cols\n",
    "df03.sort_index(axis=1 , inplace=True)\n",
    "########## Sort By Col 1\n",
    "df03.sort_index(by=\"fullName\" , inplace=True)\n",
    "########## Apply a function \n",
    "df03['Moyenne'] = df03.apply(np.mean(df03['age']))\n"
   ]
  },
  {
   "cell_type": "code",
   "execution_count": 63,
   "metadata": {},
   "outputs": [
    {
     "data": {
      "text/html": [
       "<div>\n",
       "<style scoped>\n",
       "    .dataframe tbody tr th:only-of-type {\n",
       "        vertical-align: middle;\n",
       "    }\n",
       "\n",
       "    .dataframe tbody tr th {\n",
       "        vertical-align: top;\n",
       "    }\n",
       "\n",
       "    .dataframe thead th {\n",
       "        text-align: right;\n",
       "    }\n",
       "</style>\n",
       "<table border=\"1\" class=\"dataframe\">\n",
       "  <thead>\n",
       "    <tr style=\"text-align: right;\">\n",
       "      <th></th>\n",
       "      <th>age</th>\n",
       "    </tr>\n",
       "  </thead>\n",
       "  <tbody>\n",
       "    <tr>\n",
       "      <th>sum</th>\n",
       "      <td>88</td>\n",
       "    </tr>\n",
       "    <tr>\n",
       "      <th>min</th>\n",
       "      <td>20</td>\n",
       "    </tr>\n",
       "  </tbody>\n",
       "</table>\n",
       "</div>"
      ],
      "text/plain": [
       "     age\n",
       "sum   88\n",
       "min   20"
      ]
     },
     "execution_count": 63,
     "metadata": {},
     "output_type": "execute_result"
    }
   ],
   "source": [
    "# Aggregate (min , max , mean , sum , count , median , std , unique)\n",
    "df03.aggregate({\n",
    "    \"age\" : [\"sum\" , \"min\"]\n",
    "})"
   ]
  }
 ],
 "metadata": {
  "kernelspec": {
   "display_name": "Python 3",
   "language": "python",
   "name": "python3"
  },
  "language_info": {
   "codemirror_mode": {
    "name": "ipython",
    "version": 3
   },
   "file_extension": ".py",
   "mimetype": "text/x-python",
   "name": "python",
   "nbconvert_exporter": "python",
   "pygments_lexer": "ipython3",
   "version": "3.12.1"
  }
 },
 "nbformat": 4,
 "nbformat_minor": 2
}
