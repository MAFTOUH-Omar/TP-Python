{
 "cells": [
  {
   "cell_type": "code",
   "execution_count": 2,
   "metadata": {},
   "outputs": [
    {
     "name": "stdout",
     "output_type": "stream",
     "text": [
      "- Les 10 premières entrées : \n",
      "       Nom     Prénom  Age  Taille  Poids   Salaire\n",
      "id                                                 \n",
      "1    Nom_1   Prenom_1   39  173.27  73.21  10084.34\n",
      "2    Nom_2   Prenom_2   37  166.89  54.76  11533.22\n",
      "3    Nom_3   Prenom_3   22  191.06  50.02  10808.93\n",
      "4    Nom_4   Prenom_4   29  193.09  71.94  11697.27\n",
      "5    Nom_5   Prenom_5   36  159.19  52.21   9210.91\n",
      "6    Nom_6   Prenom_6   39  172.40  78.27  11190.55\n",
      "7    Nom_7   Prenom_7   42  171.66  79.95   8663.09\n",
      "8    Nom_8   Prenom_8   39  168.05  58.51  11220.31\n",
      "9    Nom_9   Prenom_9   42  182.98  66.85   8793.78\n",
      "10  Nom_10  Prenom_10   38  195.00  56.57  11440.60\n"
     ]
    }
   ],
   "source": [
    "import pandas as pd \n",
    "import numpy as np\n",
    "\n",
    "# 1 Creation d'un DataFrame à partir du fichier Personne.csv\n",
    "df = pd.read_csv(\"Personne - Personne.csv\" , sep=',' , index_col=\"id\")\n",
    "\n",
    "# 2 les 10 premières entrées après la création du DataFrame\n",
    "print(f\"- Les 10 premières entrées : \\n{df.loc[0 : 10]}\")"
   ]
  },
  {
   "cell_type": "code",
   "execution_count": 3,
   "metadata": {},
   "outputs": [
    {
     "name": "stdout",
     "output_type": "stream",
     "text": [
      "- Nombre d'observation : 5000\n",
      "- Nombre de colones : 6\n",
      "- Le nom de tous les colones : \n",
      "Index(['Nom', 'Prénom', 'Age', 'Taille', 'Poids', 'Salaire'], dtype='object')\n",
      "- L'ensemble de données est indexé : \n",
      "Index([   1,    2,    3,    4,    5,    6,    7,    8,    9,   10,\n",
      "       ...\n",
      "       4991, 4992, 4993, 4994, 4995, 4996, 4997, 4998, 4999, 5000],\n",
      "      dtype='int64', name='id', length=5000)\n",
      "- Type de chaque colone : \n",
      "Nom         object\n",
      "Prénom      object\n",
      "Age          int64\n",
      "Taille     float64\n",
      "Poids      float64\n",
      "Salaire    float64\n",
      "dtype: object\n",
      "- Le contenu du colone salaire : \n",
      "       Salaire\n",
      "id            \n",
      "1     10084.34\n",
      "2     11533.22\n",
      "3     10808.93\n",
      "4     11697.27\n",
      "5      9210.91\n",
      "...        ...\n",
      "4996   9244.03\n",
      "4997   8413.23\n",
      "4998   7099.65\n",
      "4999  13289.69\n",
      "5000  12371.97\n",
      "\n",
      "[5000 rows x 1 columns]\n"
     ]
    }
   ],
   "source": [
    "# 3 nombre dobservation\n",
    "print(f\"- Nombre d\\'observation : {df.shape[0]}\")\n",
    "\n",
    "# 4 Nombre de colone \n",
    "print(f\"- Nombre de colones : {df.shape[1]}\")\n",
    "\n",
    "# 5 le nom de toutes les colonnes\n",
    "print(f\"- Le nom de tous les colones : \\n{df.columns}\")\n",
    "\n",
    "# 6 indexation \n",
    "print(f\"- L\\'ensemble de données est indexé : \\n{df.index}\")\n",
    "\n",
    "# 7 Type de chaque colone\n",
    "print(f\"- Type de chaque colone : \\n{df.dtypes}\")\n",
    "\n",
    "# 8 Afficher la colonne « Salaire »\n",
    "print(f\"- Le contenu du colone salaire : \\n{df.loc[: , ['Salaire']]}\")"
   ]
  },
  {
   "cell_type": "code",
   "execution_count": 34,
   "metadata": {},
   "outputs": [
    {
     "name": "stdout",
     "output_type": "stream",
     "text": [
      "Le nombre d'âges différents dans l'ensemble de données : 22\n",
      "l'âge le plus fréquent : 36\n",
      "le salaire le moins fréquent : 6780.66\n"
     ]
    }
   ],
   "source": [
    "# 9 Le nombre d'âges différents dans l'ensemble de données\n",
    "print(f\"Le nombre d\\'âges différents dans l\\'ensemble de données : {df[\"Age\"].nunique()}\")\n",
    "\n",
    "# 10 l'âge le plus fréquent\n",
    "print(f\"l\\'âge le plus fréquent : {df[\"Age\"].value_counts().idxmax()}\")\n",
    "\n",
    "# 11 le salaire le moins fréquent\n",
    "print(f\"le salaire le moins fréquent : {df[\"Salaire\"].value_counts().idxmin()}\")"
   ]
  },
  {
   "cell_type": "code",
   "execution_count": 35,
   "metadata": {},
   "outputs": [
    {
     "name": "stdout",
     "output_type": "stream",
     "text": [
      "Résumez le DataFrame : \n",
      "               Age       Taille        Poids       Salaire\n",
      "count  5000.000000  5000.000000  5000.000000   5000.000000\n",
      "mean     31.569400   174.944166    72.346476  10049.931716\n",
      "std       6.399295    14.359552    12.991692   2305.314949\n",
      "min      21.000000   150.010000    50.000000   6001.460000\n",
      "25%      26.000000   162.535000    61.065000   8036.570000\n",
      "50%      32.000000   174.790000    72.210000  10065.770000\n",
      "75%      37.000000   187.482500    83.642500  12064.845000\n",
      "max      42.000000   200.000000    94.990000  13999.970000\n"
     ]
    }
   ],
   "source": [
    "# 12 Résumez le DataFrame\n",
    "print(f\"Résumez le DataFrame : \\n{df.describe()}\")"
   ]
  },
  {
   "cell_type": "code",
   "execution_count": 36,
   "metadata": {},
   "outputs": [
    {
     "name": "stdout",
     "output_type": "stream",
     "text": [
      "Résumer toutes les colonnes du Dataframe : \n",
      "          Nom    Prénom          Age       Taille        Poids       Salaire\n",
      "count    5000      5000  5000.000000  5000.000000  5000.000000   5000.000000\n",
      "unique   5000      5000          NaN          NaN          NaN           NaN\n",
      "top     Nom_1  Prenom_1          NaN          NaN          NaN           NaN\n",
      "freq        1         1          NaN          NaN          NaN           NaN\n",
      "mean      NaN       NaN    31.569400   174.944166    72.346476  10049.931716\n",
      "std       NaN       NaN     6.399295    14.359552    12.991692   2305.314949\n",
      "min       NaN       NaN    21.000000   150.010000    50.000000   6001.460000\n",
      "25%       NaN       NaN    26.000000   162.535000    61.065000   8036.570000\n",
      "50%       NaN       NaN    32.000000   174.790000    72.210000  10065.770000\n",
      "75%       NaN       NaN    37.000000   187.482500    83.642500  12064.845000\n",
      "max       NaN       NaN    42.000000   200.000000    94.990000  13999.970000\n"
     ]
    }
   ],
   "source": [
    "# 13 Résumer toutes les colonnes du Dataframe\n",
    "print(f\"Résumer toutes les colonnes du Dataframe : \\n{df.describe(include='all')}\")"
   ]
  },
  {
   "cell_type": "code",
   "execution_count": 37,
   "metadata": {},
   "outputs": [
    {
     "name": "stdout",
     "output_type": "stream",
     "text": [
      "Age sup que 25 : \n",
      "id\n",
      "1       39\n",
      "2       37\n",
      "4       29\n",
      "5       36\n",
      "6       39\n",
      "        ..\n",
      "4996    34\n",
      "4997    28\n",
      "4998    30\n",
      "4999    33\n",
      "5000    42\n",
      "Name: Age, Length: 3854, dtype: int64\n"
     ]
    }
   ],
   "source": [
    "# 14 \"Age\" est supérieure à 25\n",
    "print(f\"Age sup que 25 : \\n{df[\"Age\"].loc[df[\"Age\"]>25]}\")"
   ]
  },
  {
   "cell_type": "code",
   "execution_count": 52,
   "metadata": {},
   "outputs": [
    {
     "name": "stdout",
     "output_type": "stream",
     "text": [
      "La valeur deuxième ligne et troisième colonne : 21\n",
      "Les Valeurs sup a 170 : \n",
      "           Nom       Prénom  Age  Taille  Poids   Salaire  Prime Annuelle  \\\n",
      "id                                                                          \n",
      "1607  NOM_1607  PRENOM_1607   21  188.34  93.89   8729.97         872.997   \n",
      "1717  NOM_1717  PRENOM_1717   21  192.97  83.90  12401.14        1240.114   \n",
      "3729  NOM_3729  PRENOM_3729   21  199.22  50.83  12771.95        1277.195   \n",
      "563    NOM_563   PRENOM_563   21  191.11  73.95   9000.85         900.085   \n",
      "4628  NOM_4628  PRENOM_4628   21  191.23  75.48   8743.19         874.319   \n",
      "...        ...          ...  ...     ...    ...       ...             ...   \n",
      "3669  NOM_3669  PRENOM_3669   42  180.96  61.51   8182.64         818.264   \n",
      "1381  NOM_1381  PRENOM_1381   42  190.67  85.54  12289.93        1228.993   \n",
      "742    NOM_742   PRENOM_742   42  178.47  86.14   8335.32         833.532   \n",
      "895    NOM_895   PRENOM_895   42  195.86  87.18  13589.59        1358.959   \n",
      "5000  NOM_5000  PRENOM_5000   42  191.06  52.72  12371.97        1237.197   \n",
      "\n",
      "     catégorie de poids  \n",
      "id                       \n",
      "1607              Lourd  \n",
      "1717              Moyen  \n",
      "3729              Lèger  \n",
      "563               Moyen  \n",
      "4628              Moyen  \n",
      "...                 ...  \n",
      "3669              Lèger  \n",
      "1381              Moyen  \n",
      "742               Moyen  \n",
      "895               Moyen  \n",
      "5000              Lèger  \n",
      "\n",
      "[2996 rows x 8 columns]\n"
     ]
    }
   ],
   "source": [
    "# 15 la valeur à la deuxième ligne et à la troisième colonne\n",
    "print(f\"La valeur deuxième ligne et troisième colonne : {df.iloc[1 , 2]}\")\n",
    "\n",
    "# 16 Toutes les lignes pour lesquelles la colonne \"Taille\" est supérieure à 170\n",
    "print(f\"Les Valeurs sup a 170 : \\n{df[\"Taille\"].loc[df[\"Taille\"]>170]}\")"
   ]
  },
  {
   "cell_type": "code",
   "execution_count": 4,
   "metadata": {},
   "outputs": [
    {
     "name": "stdout",
     "output_type": "stream",
     "text": [
      "- La première ligne et les deux premières colonnes : \n",
      "Nom          Nom_1\n",
      "Prénom    Prenom_1\n",
      "Name: 1, dtype: object\n",
      "- Salaire supérieur à 7000 & Age supérieur à 30 :\n",
      "           Nom       Prénom  Age  Taille  Poids   Salaire\n",
      "id                                                       \n",
      "1        Nom_1     Prenom_1   39  173.27  73.21  10084.34\n",
      "2        Nom_2     Prenom_2   37  166.89  54.76  11533.22\n",
      "5        Nom_5     Prenom_5   36  159.19  52.21   9210.91\n",
      "6        Nom_6     Prenom_6   39  172.40  78.27  11190.55\n",
      "7        Nom_7     Prenom_7   42  171.66  79.95   8663.09\n",
      "...        ...          ...  ...     ...    ...       ...\n",
      "4994  Nom_4994  Prenom_4994   32  157.29  70.26   7816.15\n",
      "4995  Nom_4995  Prenom_4995   42  164.68  90.31   7047.74\n",
      "4996  Nom_4996  Prenom_4996   34  171.76  51.14   9244.03\n",
      "4999  Nom_4999  Prenom_4999   33  178.79  76.82  13289.69\n",
      "5000  Nom_5000  Prenom_5000   42  191.06  52.72  12371.97\n",
      "\n",
      "[2426 rows x 6 columns]\n"
     ]
    }
   ],
   "source": [
    "# 17 La première ligne et les deux premières colonnes\n",
    "print(f\"- La première ligne et les deux premières colonnes : \\n{df.iloc[ 0 , : 2 ]}\")\n",
    "\n",
    "# 18 Toutes les lignes où la colonne \"Salaire\" est supérieure à 7000 et la colonne \"Age\" est égale à 30\n",
    "print(f\"- Salaire supérieur à 7000 & Age supérieur à 30 :\\n{df.loc[(df['Salaire'] > 7000) & (df['Age'] > 30)]}\")"
   ]
  },
  {
   "cell_type": "code",
   "execution_count": 5,
   "metadata": {},
   "outputs": [
    {
     "name": "stdout",
     "output_type": "stream",
     "text": [
      "           Nom       Prénom  Age  Taille  Poids   Salaire\n",
      "id                                                       \n",
      "1607  Nom_1607  Prenom_1607   21  188.34  93.89   8729.97\n",
      "1693  Nom_1693  Prenom_1693   21  166.47  80.79   8702.91\n",
      "1717  Nom_1717  Prenom_1717   21  192.97  83.90  12401.14\n",
      "1736  Nom_1736  Prenom_1736   21  169.47  63.24   6361.12\n",
      "3729  Nom_3729  Prenom_3729   21  199.22  50.83  12771.95\n",
      "...        ...          ...  ...     ...    ...       ...\n",
      "2042  Nom_2042  Prenom_2042   42  159.41  61.87  12717.57\n",
      "1697  Nom_1697  Prenom_1697   42  164.59  86.05  11898.82\n",
      "742    Nom_742   Prenom_742   42  178.47  86.14   8335.32\n",
      "895    Nom_895   Prenom_895   42  195.86  87.18  13589.59\n",
      "5000  Nom_5000  Prenom_5000   42  191.06  52.72  12371.97\n",
      "\n",
      "[5000 rows x 6 columns]\n"
     ]
    }
   ],
   "source": [
    "# 19 Trier le Dataframe par âge des personnes\n",
    "print(df.sort_values(\"Age\"))"
   ]
  },
  {
   "cell_type": "code",
   "execution_count": 41,
   "metadata": {},
   "outputs": [
    {
     "name": "stdout",
     "output_type": "stream",
     "text": [
      "le salaire de la personne la plus jeune : \n",
      "Nom           Nom_1607\n",
      "Prénom     Prenom_1607\n",
      "Age                 21\n",
      "Taille          188.34\n",
      "Poids            93.89\n",
      "Salaire        8729.97\n",
      "Name: 1607, dtype: object\n"
     ]
    }
   ],
   "source": [
    "# 20 le salaire de la personne la plus jeune\n",
    "print(f\"le salaire de la personne la plus jeune : \\n{df.sort_values(by=\"Age\").iloc[0]}\")"
   ]
  },
  {
   "cell_type": "code",
   "execution_count": 42,
   "metadata": {},
   "outputs": [
    {
     "name": "stdout",
     "output_type": "stream",
     "text": [
      "Nom & prenom en majuscule : \n",
      "           Nom       Prénom\n",
      "id                         \n",
      "1607  NOM_1607  PRENOM_1607\n",
      "1693  NOM_1693  PRENOM_1693\n",
      "1717  NOM_1717  PRENOM_1717\n",
      "1736  NOM_1736  PRENOM_1736\n",
      "3729  NOM_3729  PRENOM_3729\n",
      "...        ...          ...\n",
      "2042  NOM_2042  PRENOM_2042\n",
      "1697  NOM_1697  PRENOM_1697\n",
      "742    NOM_742   PRENOM_742\n",
      "895    NOM_895   PRENOM_895\n",
      "5000  NOM_5000  PRENOM_5000\n",
      "\n",
      "[5000 rows x 2 columns]\n"
     ]
    }
   ],
   "source": [
    "# 21 fonction lambda qui mettra en majuscule les chaînes de caractères.\n",
    "upperCase = lambda chaine : chaine.upper()\n",
    "\n",
    "# 22 mettre nom & prenom en majuscule\n",
    "df[\"Nom\"] = df[\"Nom\"].apply(upperCase)\n",
    "df[\"Prénom\"] = df[\"Prénom\"].apply(upperCase)\n",
    "print(f\"Nom & prenom en majuscule : \\n{df[[\"Nom\" , \"Prénom\"]]}\")"
   ]
  },
  {
   "cell_type": "code",
   "execution_count": 8,
   "metadata": {},
   "outputs": [],
   "source": [
    "# 23 la prime annuelle de chaque employé\n",
    "def primeAnnuel ( salaire ) :\n",
    "    return salaire * 0.10\n",
    "\n",
    "df[\"Prime Annuelle\"] = df[\"Salaire\"].apply(primeAnnuel)\n",
    "print(df)"
   ]
  },
  {
   "cell_type": "code",
   "execution_count": 44,
   "metadata": {},
   "outputs": [
    {
     "name": "stdout",
     "output_type": "stream",
     "text": [
      "Age\n",
      "21    10119.726420\n",
      "22     9981.018515\n",
      "23    10048.084820\n",
      "24     9880.982837\n",
      "25     9898.889747\n",
      "26    10230.765455\n",
      "27    10444.025256\n",
      "28    10078.641106\n",
      "29    10138.074234\n",
      "30    10210.449773\n",
      "31    10069.967048\n",
      "32    10126.509957\n",
      "33     9892.771587\n",
      "34     9764.361472\n",
      "35    10055.175684\n",
      "36     9977.249494\n",
      "37     9876.418834\n",
      "38    10139.296776\n",
      "39    10055.887439\n",
      "40     9984.453964\n",
      "41     9995.321759\n",
      "42    10096.159431\n",
      "Name: Salaire, dtype: float64\n"
     ]
    }
   ],
   "source": [
    "# 24 Grouper selon Age & Calculer la moyenne des salaires pour chaque groupe d'âge\n",
    "groupAge = df.groupby(\"Age\")[\"Salaire\"].mean()\n",
    "print(groupAge)"
   ]
  },
  {
   "cell_type": "code",
   "execution_count": 9,
   "metadata": {},
   "outputs": [
    {
     "name": "stdout",
     "output_type": "stream",
     "text": [
      "           Nom       Prénom  Age  Taille  Poids   Salaire  Prime Annuelle  \\\n",
      "id                                                                          \n",
      "1        Nom_1     Prenom_1   39  173.27  73.21  10084.34        1008.434   \n",
      "2        Nom_2     Prenom_2   37  166.89  54.76  11533.22        1153.322   \n",
      "3        Nom_3     Prenom_3   22  191.06  50.02  10808.93        1080.893   \n",
      "4        Nom_4     Prenom_4   29  193.09  71.94  11697.27        1169.727   \n",
      "5        Nom_5     Prenom_5   36  159.19  52.21   9210.91         921.091   \n",
      "...        ...          ...  ...     ...    ...       ...             ...   \n",
      "4996  Nom_4996  Prenom_4996   34  171.76  51.14   9244.03         924.403   \n",
      "4997  Nom_4997  Prenom_4997   28  177.82  50.51   8413.23         841.323   \n",
      "4998  Nom_4998  Prenom_4998   30  153.11  91.33   7099.65         709.965   \n",
      "4999  Nom_4999  Prenom_4999   33  178.79  76.82  13289.69        1328.969   \n",
      "5000  Nom_5000  Prenom_5000   42  191.06  52.72  12371.97        1237.197   \n",
      "\n",
      "     catégorie de poids  \n",
      "id                       \n",
      "1                 Moyen  \n",
      "2                 Lèger  \n",
      "3                 Lèger  \n",
      "4                 Moyen  \n",
      "5                 Lèger  \n",
      "...                 ...  \n",
      "4996              Lèger  \n",
      "4997              Lèger  \n",
      "4998              Lourd  \n",
      "4999              Moyen  \n",
      "5000              Lèger  \n",
      "\n",
      "[5000 rows x 8 columns]\n"
     ]
    }
   ],
   "source": [
    "# 25 colonne 'catégorie de poids’\n",
    "def categoriePoids ( poid ) :\n",
    "    if poid <= 50 :\n",
    "        return \"Très léger\"\n",
    "    elif poid > 50  and poid <= 70 :\n",
    "        return \"Lèger\"\n",
    "    elif poid > 70 and poid <= 90 :\n",
    "        return \"Moyen\"\n",
    "    elif poid > 90 :\n",
    "        return \"Lourd\"\n",
    "    \n",
    "df[\"catégorie de poids\"] = df[\"Poids\"].apply(categoriePoids)\n",
    "print(df)"
   ]
  },
  {
   "cell_type": "code",
   "execution_count": 54,
   "metadata": {},
   "outputs": [
    {
     "name": "stdout",
     "output_type": "stream",
     "text": [
      "Categorie du poid plus courante : Moyen\n"
     ]
    }
   ],
   "source": [
    "# 26 La catégorie de poids la plus courante\n",
    "print(f\"Categorie du poid plus courante : {df[\"catégorie de poids\"].value_counts().idxmax()}\")"
   ]
  },
  {
   "cell_type": "code",
   "execution_count": 47,
   "metadata": {},
   "outputs": [
    {
     "name": "stdout",
     "output_type": "stream",
     "text": [
      "Moyenne de salaire par Age & categorie de poids : \n",
      "Age  catégorie de poids\n",
      "21   Lourd                  9998.593704\n",
      "     Lèger                 10068.749817\n",
      "     Moyen                 10202.222056\n",
      "22   Lourd                  9586.951176\n",
      "     Lèger                 10003.921727\n",
      "                               ...     \n",
      "41   Lèger                 10048.863370\n",
      "     Moyen                 10074.402360\n",
      "42   Lourd                  9644.189200\n",
      "     Lèger                 10288.649292\n",
      "     Moyen                  9999.380741\n",
      "Name: Salaire, Length: 67, dtype: float64\n"
     ]
    }
   ],
   "source": [
    "# 27 groupe d'âge et catégorie de poids, puis calculer la moyenne des salaires pour chaque combinaison.\n",
    "moySalaire = df.groupby([\"Age\" , \"catégorie de poids\"])[\"Salaire\"].mean()\n",
    "print(f\"Moyenne de salaire par Age & categorie de poids : \\n{moySalaire}\")\n"
   ]
  },
  {
   "cell_type": "code",
   "execution_count": 12,
   "metadata": {},
   "outputs": [
    {
     "name": "stdout",
     "output_type": "stream",
     "text": [
      "Des statistiques pour chaque catégorie de poids\n"
     ]
    },
    {
     "data": {
      "text/html": [
       "<div>\n",
       "<style scoped>\n",
       "    .dataframe tbody tr th:only-of-type {\n",
       "        vertical-align: middle;\n",
       "    }\n",
       "\n",
       "    .dataframe tbody tr th {\n",
       "        vertical-align: top;\n",
       "    }\n",
       "\n",
       "    .dataframe thead th {\n",
       "        text-align: right;\n",
       "    }\n",
       "</style>\n",
       "<table border=\"1\" class=\"dataframe\">\n",
       "  <thead>\n",
       "    <tr style=\"text-align: right;\">\n",
       "      <th></th>\n",
       "      <th>count</th>\n",
       "      <th>mean</th>\n",
       "      <th>std</th>\n",
       "      <th>min</th>\n",
       "      <th>25%</th>\n",
       "      <th>50%</th>\n",
       "      <th>75%</th>\n",
       "      <th>max</th>\n",
       "    </tr>\n",
       "    <tr>\n",
       "      <th>catégorie de poids</th>\n",
       "      <th></th>\n",
       "      <th></th>\n",
       "      <th></th>\n",
       "      <th></th>\n",
       "      <th></th>\n",
       "      <th></th>\n",
       "      <th></th>\n",
       "      <th></th>\n",
       "    </tr>\n",
       "  </thead>\n",
       "  <tbody>\n",
       "    <tr>\n",
       "      <th>Lourd</th>\n",
       "      <td>512.0</td>\n",
       "      <td>175.775488</td>\n",
       "      <td>14.911754</td>\n",
       "      <td>150.07</td>\n",
       "      <td>162.2000</td>\n",
       "      <td>176.06</td>\n",
       "      <td>189.5725</td>\n",
       "      <td>199.85</td>\n",
       "    </tr>\n",
       "    <tr>\n",
       "      <th>Lèger</th>\n",
       "      <td>2241.0</td>\n",
       "      <td>174.965199</td>\n",
       "      <td>14.318334</td>\n",
       "      <td>150.02</td>\n",
       "      <td>162.5900</td>\n",
       "      <td>174.92</td>\n",
       "      <td>187.2300</td>\n",
       "      <td>199.99</td>\n",
       "    </tr>\n",
       "    <tr>\n",
       "      <th>Moyen</th>\n",
       "      <td>2246.0</td>\n",
       "      <td>174.744439</td>\n",
       "      <td>14.265837</td>\n",
       "      <td>150.01</td>\n",
       "      <td>162.6175</td>\n",
       "      <td>174.01</td>\n",
       "      <td>187.3700</td>\n",
       "      <td>200.00</td>\n",
       "    </tr>\n",
       "    <tr>\n",
       "      <th>Très léger</th>\n",
       "      <td>1.0</td>\n",
       "      <td>150.760000</td>\n",
       "      <td>NaN</td>\n",
       "      <td>150.76</td>\n",
       "      <td>150.7600</td>\n",
       "      <td>150.76</td>\n",
       "      <td>150.7600</td>\n",
       "      <td>150.76</td>\n",
       "    </tr>\n",
       "  </tbody>\n",
       "</table>\n",
       "</div>"
      ],
      "text/plain": [
       "                     count        mean        std     min       25%     50%  \\\n",
       "catégorie de poids                                                            \n",
       "Lourd                512.0  175.775488  14.911754  150.07  162.2000  176.06   \n",
       "Lèger               2241.0  174.965199  14.318334  150.02  162.5900  174.92   \n",
       "Moyen               2246.0  174.744439  14.265837  150.01  162.6175  174.01   \n",
       "Très léger             1.0  150.760000        NaN  150.76  150.7600  150.76   \n",
       "\n",
       "                         75%     max  \n",
       "catégorie de poids                    \n",
       "Lourd               189.5725  199.85  \n",
       "Lèger               187.2300  199.99  \n",
       "Moyen               187.3700  200.00  \n",
       "Très léger          150.7600  150.76  "
      ]
     },
     "execution_count": 12,
     "metadata": {},
     "output_type": "execute_result"
    }
   ],
   "source": [
    "# 28 Statistiques pour categorie de poids\n",
    "print(\"Des statistiques pour chaque catégorie de poids\")\n",
    "df.groupby(\"catégorie de poids\")[\"Taille\"].describe()"
   ]
  },
  {
   "cell_type": "code",
   "execution_count": 11,
   "metadata": {},
   "outputs": [
    {
     "name": "stdout",
     "output_type": "stream",
     "text": [
      "                            mean       max       min     median\n",
      "catégorie de poids                                             \n",
      "Lourd                9936.055449  13949.11   6005.97   9866.335\n",
      "Lèger               10041.194516  13999.55   6002.86  10080.400\n",
      "Moyen               10083.478246  13999.97   6001.46  10093.470\n",
      "Très léger          12589.140000  12589.14  12589.14  12589.140\n"
     ]
    }
   ],
   "source": [
    "# 29 La moyenne, le maximum, le minimum et la médiane des salaires regroupés par catégorie de poids.\n",
    "print(df.groupby(\"catégorie de poids\")[\"Salaire\"].agg([\"mean\" , \"max\" , \"min\" , \"median\"]))\n"
   ]
  },
  {
   "cell_type": "code",
   "execution_count": 50,
   "metadata": {},
   "outputs": [],
   "source": [
    "df.to_csv(\"DataFrame.csv\")"
   ]
  },
  {
   "cell_type": "code",
   "execution_count": 51,
   "metadata": {},
   "outputs": [
    {
     "data": {
      "text/html": [
       "<div>\n",
       "<style scoped>\n",
       "    .dataframe tbody tr th:only-of-type {\n",
       "        vertical-align: middle;\n",
       "    }\n",
       "\n",
       "    .dataframe tbody tr th {\n",
       "        vertical-align: top;\n",
       "    }\n",
       "\n",
       "    .dataframe thead th {\n",
       "        text-align: right;\n",
       "    }\n",
       "</style>\n",
       "<table border=\"1\" class=\"dataframe\">\n",
       "  <thead>\n",
       "    <tr style=\"text-align: right;\">\n",
       "      <th></th>\n",
       "      <th>Nom</th>\n",
       "      <th>Prénom</th>\n",
       "      <th>Age</th>\n",
       "      <th>Taille</th>\n",
       "      <th>Poids</th>\n",
       "      <th>Salaire</th>\n",
       "      <th>Prime Annuelle</th>\n",
       "      <th>catégorie de poids</th>\n",
       "    </tr>\n",
       "    <tr>\n",
       "      <th>id</th>\n",
       "      <th></th>\n",
       "      <th></th>\n",
       "      <th></th>\n",
       "      <th></th>\n",
       "      <th></th>\n",
       "      <th></th>\n",
       "      <th></th>\n",
       "      <th></th>\n",
       "    </tr>\n",
       "  </thead>\n",
       "  <tbody>\n",
       "    <tr>\n",
       "      <th>1607</th>\n",
       "      <td>NOM_1607</td>\n",
       "      <td>PRENOM_1607</td>\n",
       "      <td>21</td>\n",
       "      <td>188.34</td>\n",
       "      <td>93.89</td>\n",
       "      <td>8729.97</td>\n",
       "      <td>872.997</td>\n",
       "      <td>Lourd</td>\n",
       "    </tr>\n",
       "    <tr>\n",
       "      <th>1693</th>\n",
       "      <td>NOM_1693</td>\n",
       "      <td>PRENOM_1693</td>\n",
       "      <td>21</td>\n",
       "      <td>166.47</td>\n",
       "      <td>80.79</td>\n",
       "      <td>8702.91</td>\n",
       "      <td>870.291</td>\n",
       "      <td>Moyen</td>\n",
       "    </tr>\n",
       "    <tr>\n",
       "      <th>1717</th>\n",
       "      <td>NOM_1717</td>\n",
       "      <td>PRENOM_1717</td>\n",
       "      <td>21</td>\n",
       "      <td>192.97</td>\n",
       "      <td>83.90</td>\n",
       "      <td>12401.14</td>\n",
       "      <td>1240.114</td>\n",
       "      <td>Moyen</td>\n",
       "    </tr>\n",
       "    <tr>\n",
       "      <th>1736</th>\n",
       "      <td>NOM_1736</td>\n",
       "      <td>PRENOM_1736</td>\n",
       "      <td>21</td>\n",
       "      <td>169.47</td>\n",
       "      <td>63.24</td>\n",
       "      <td>6361.12</td>\n",
       "      <td>636.112</td>\n",
       "      <td>Lèger</td>\n",
       "    </tr>\n",
       "    <tr>\n",
       "      <th>3729</th>\n",
       "      <td>NOM_3729</td>\n",
       "      <td>PRENOM_3729</td>\n",
       "      <td>21</td>\n",
       "      <td>199.22</td>\n",
       "      <td>50.83</td>\n",
       "      <td>12771.95</td>\n",
       "      <td>1277.195</td>\n",
       "      <td>Lèger</td>\n",
       "    </tr>\n",
       "    <tr>\n",
       "      <th>...</th>\n",
       "      <td>...</td>\n",
       "      <td>...</td>\n",
       "      <td>...</td>\n",
       "      <td>...</td>\n",
       "      <td>...</td>\n",
       "      <td>...</td>\n",
       "      <td>...</td>\n",
       "      <td>...</td>\n",
       "    </tr>\n",
       "    <tr>\n",
       "      <th>2042</th>\n",
       "      <td>NOM_2042</td>\n",
       "      <td>PRENOM_2042</td>\n",
       "      <td>42</td>\n",
       "      <td>159.41</td>\n",
       "      <td>61.87</td>\n",
       "      <td>12717.57</td>\n",
       "      <td>1271.757</td>\n",
       "      <td>Lèger</td>\n",
       "    </tr>\n",
       "    <tr>\n",
       "      <th>1697</th>\n",
       "      <td>NOM_1697</td>\n",
       "      <td>PRENOM_1697</td>\n",
       "      <td>42</td>\n",
       "      <td>164.59</td>\n",
       "      <td>86.05</td>\n",
       "      <td>11898.82</td>\n",
       "      <td>1189.882</td>\n",
       "      <td>Moyen</td>\n",
       "    </tr>\n",
       "    <tr>\n",
       "      <th>742</th>\n",
       "      <td>NOM_742</td>\n",
       "      <td>PRENOM_742</td>\n",
       "      <td>42</td>\n",
       "      <td>178.47</td>\n",
       "      <td>86.14</td>\n",
       "      <td>8335.32</td>\n",
       "      <td>833.532</td>\n",
       "      <td>Moyen</td>\n",
       "    </tr>\n",
       "    <tr>\n",
       "      <th>895</th>\n",
       "      <td>NOM_895</td>\n",
       "      <td>PRENOM_895</td>\n",
       "      <td>42</td>\n",
       "      <td>195.86</td>\n",
       "      <td>87.18</td>\n",
       "      <td>13589.59</td>\n",
       "      <td>1358.959</td>\n",
       "      <td>Moyen</td>\n",
       "    </tr>\n",
       "    <tr>\n",
       "      <th>5000</th>\n",
       "      <td>NOM_5000</td>\n",
       "      <td>PRENOM_5000</td>\n",
       "      <td>42</td>\n",
       "      <td>191.06</td>\n",
       "      <td>52.72</td>\n",
       "      <td>12371.97</td>\n",
       "      <td>1237.197</td>\n",
       "      <td>Lèger</td>\n",
       "    </tr>\n",
       "  </tbody>\n",
       "</table>\n",
       "<p>5000 rows × 8 columns</p>\n",
       "</div>"
      ],
      "text/plain": [
       "           Nom       Prénom  Age  Taille  Poids   Salaire  Prime Annuelle  \\\n",
       "id                                                                          \n",
       "1607  NOM_1607  PRENOM_1607   21  188.34  93.89   8729.97         872.997   \n",
       "1693  NOM_1693  PRENOM_1693   21  166.47  80.79   8702.91         870.291   \n",
       "1717  NOM_1717  PRENOM_1717   21  192.97  83.90  12401.14        1240.114   \n",
       "1736  NOM_1736  PRENOM_1736   21  169.47  63.24   6361.12         636.112   \n",
       "3729  NOM_3729  PRENOM_3729   21  199.22  50.83  12771.95        1277.195   \n",
       "...        ...          ...  ...     ...    ...       ...             ...   \n",
       "2042  NOM_2042  PRENOM_2042   42  159.41  61.87  12717.57        1271.757   \n",
       "1697  NOM_1697  PRENOM_1697   42  164.59  86.05  11898.82        1189.882   \n",
       "742    NOM_742   PRENOM_742   42  178.47  86.14   8335.32         833.532   \n",
       "895    NOM_895   PRENOM_895   42  195.86  87.18  13589.59        1358.959   \n",
       "5000  NOM_5000  PRENOM_5000   42  191.06  52.72  12371.97        1237.197   \n",
       "\n",
       "     catégorie de poids  \n",
       "id                       \n",
       "1607              Lourd  \n",
       "1693              Moyen  \n",
       "1717              Moyen  \n",
       "1736              Lèger  \n",
       "3729              Lèger  \n",
       "...                 ...  \n",
       "2042              Lèger  \n",
       "1697              Moyen  \n",
       "742               Moyen  \n",
       "895               Moyen  \n",
       "5000              Lèger  \n",
       "\n",
       "[5000 rows x 8 columns]"
      ]
     },
     "execution_count": 51,
     "metadata": {},
     "output_type": "execute_result"
    }
   ],
   "source": [
    "df"
   ]
  }
 ],
 "metadata": {
  "kernelspec": {
   "display_name": "Python 3",
   "language": "python",
   "name": "python3"
  },
  "language_info": {
   "codemirror_mode": {
    "name": "ipython",
    "version": 3
   },
   "file_extension": ".py",
   "mimetype": "text/x-python",
   "name": "python",
   "nbconvert_exporter": "python",
   "pygments_lexer": "ipython3",
   "version": "3.12.1"
  }
 },
 "nbformat": 4,
 "nbformat_minor": 2
}
